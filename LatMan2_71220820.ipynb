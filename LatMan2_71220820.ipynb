{
 "cells": [
  {
   "cell_type": "code",
   "execution_count": 2,
   "id": "1ac71c2b-645a-41ad-af2f-b2a568632be8",
   "metadata": {},
   "outputs": [
    {
     "name": "stdin",
     "output_type": "stream",
     "text": [
      "Masukkan berat badan anda (kg): 48\n",
      "Masukkan tinggi badan anda (meter): 1.58\n"
     ]
    },
    {
     "name": "stdout",
     "output_type": "stream",
     "text": [
      "19.227687870533565\n"
     ]
    }
   ],
   "source": [
    "#SOAL 1\n",
    "\n",
    "beratBadan = int(input(\"Masukkan berat badan anda (kg):\"))\n",
    "tinggiBadan = float(input(\"Masukkan tinggi badan anda (meter):\"))\n",
    "BMI = beratBadan / (tinggiBadan **2)\n",
    "print( BMI)"
   ]
  },
  {
   "cell_type": "code",
   "execution_count": 6,
   "id": "bac16d18-79f0-44db-912a-dbe82f015330",
   "metadata": {},
   "outputs": [
    {
     "name": "stdin",
     "output_type": "stream",
     "text": [
      "Masukkan nilai x: 1\n"
     ]
    },
    {
     "name": "stdout",
     "output_type": "stream",
     "text": [
      "Hasilnya adalah 19.0\n"
     ]
    }
   ],
   "source": [
    "#SOAL 2\n",
    "\n",
    "x = int(input(\"Masukkan nilai x:\"))\n",
    "hitung = 2 * (x**3) + (2*x) + (15/x)\n",
    "print(f\"Hasilnya adalah {hitung}\")"
   ]
  },
  {
   "cell_type": "code",
   "execution_count": 2,
   "id": "a14f8651-3145-4ca2-860a-ef3224993184",
   "metadata": {},
   "outputs": [
    {
     "name": "stdin",
     "output_type": "stream",
     "text": [
      "Masukkan gaji per jam yang anda inginkan:  3000\n",
      "Jumlah jam kerja per minggu:  50\n"
     ]
    },
    {
     "name": "stdout",
     "output_type": "stream",
     "text": [
      "1. Pendapatan sebelum pajak: 750000.0\n",
      "2. Pendapatan setelah pajak: 645000.0\n",
      "3. Belanja baju dan aksesoris: 64500.0\n",
      "4. Belanja alat tulis: 6450.0\n",
      "5. Sedekah: 143512.5\n",
      "6. Anak yatim: 43053.75\n",
      "7. Kaum dhuafa: 100458.75\n"
     ]
    }
   ],
   "source": [
    "#SOAL 3\n",
    "\n",
    "gaji_per_jam = float(input(\"Masukkan gaji per jam yang anda inginkan: \"))\n",
    "jam_kerja_per_minggu = float(input(\"Jumlah jam kerja per minggu: \"))\n",
    "pajak = 0.14\n",
    "\n",
    "total_liburanSemester = 5\n",
    "pendapatan_sebelum_pajak = gaji_per_jam * jam_kerja_per_minggu * total_liburanSemester\n",
    "pajakGaji = pendapatan_sebelum_pajak * pajak\n",
    "pendapatan_setelah_pajak = pendapatan_sebelum_pajak - pajakGaji\n",
    "\n",
    "belanja_baju_aksesoris = pendapatan_setelah_pajak * 0.10\n",
    "belanja_alat_tulis = pendapatan_setelah_pajak * 0.01\n",
    "sisa_uang = pendapatan_setelah_pajak - belanja_baju_aksesoris - belanja_alat_tulis\n",
    "sedekah = sisa_uang * 0.25\n",
    "anak_yatim = sedekah * 0.30\n",
    "kaum_dhuafa = sedekah * 0.70\n",
    "\n",
    "print(f\"1. Pendapatan sebelum pajak: {pendapatan_sebelum_pajak}\")\n",
    "print(f\"2. Pendapatan setelah pajak: {pendapatan_setelah_pajak}\")\n",
    "print(f\"3. Belanja baju dan aksesoris: {belanja_baju_aksesoris}\")\n",
    "print(f\"4. Belanja alat tulis: {belanja_alat_tulis:}\")\n",
    "print(f\"5. Sedekah: {sedekah}\")\n",
    "print(f\"6. Anak yatim: {anak_yatim}\")\n",
    "print(f\"7. Kaum dhuafa: {kaum_dhuafa}\")"
   ]
  },
  {
   "cell_type": "code",
   "execution_count": null,
   "id": "e2322a3c-2e39-4660-994b-f91e388f06d2",
   "metadata": {},
   "outputs": [],
   "source": []
  }
 ],
 "metadata": {
  "kernelspec": {
   "display_name": "Python [conda env:base] *",
   "language": "python",
   "name": "conda-base-py"
  },
  "language_info": {
   "codemirror_mode": {
    "name": "ipython",
    "version": 3
   },
   "file_extension": ".py",
   "mimetype": "text/x-python",
   "name": "python",
   "nbconvert_exporter": "python",
   "pygments_lexer": "ipython3",
   "version": "3.12.7"
  }
 },
 "nbformat": 4,
 "nbformat_minor": 5
}
